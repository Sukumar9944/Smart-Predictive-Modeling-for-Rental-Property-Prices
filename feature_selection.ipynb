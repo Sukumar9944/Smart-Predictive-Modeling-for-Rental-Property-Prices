{
 "cells": [
  {
   "cell_type": "code",
   "execution_count": 9,
   "metadata": {},
   "outputs": [
    {
     "data": {
      "text/html": [
       "<div>\n",
       "<style scoped>\n",
       "    .dataframe tbody tr th:only-of-type {\n",
       "        vertical-align: middle;\n",
       "    }\n",
       "\n",
       "    .dataframe tbody tr th {\n",
       "        vertical-align: top;\n",
       "    }\n",
       "\n",
       "    .dataframe thead th {\n",
       "        text-align: right;\n",
       "    }\n",
       "</style>\n",
       "<table border=\"1\" class=\"dataframe\">\n",
       "  <thead>\n",
       "    <tr style=\"text-align: right;\">\n",
       "      <th></th>\n",
       "      <th>type</th>\n",
       "      <th>latitude</th>\n",
       "      <th>longitude</th>\n",
       "      <th>lease_type</th>\n",
       "      <th>gym</th>\n",
       "      <th>lift</th>\n",
       "      <th>swimming_pool</th>\n",
       "      <th>negotiable</th>\n",
       "      <th>furnishing</th>\n",
       "      <th>parking</th>\n",
       "      <th>property_size</th>\n",
       "      <th>property_age</th>\n",
       "      <th>bathroom</th>\n",
       "      <th>facing</th>\n",
       "      <th>cup_board</th>\n",
       "      <th>floor</th>\n",
       "      <th>total_floor</th>\n",
       "      <th>water_supply</th>\n",
       "      <th>building_type</th>\n",
       "      <th>balconies</th>\n",
       "      <th>rent</th>\n",
       "    </tr>\n",
       "  </thead>\n",
       "  <tbody>\n",
       "    <tr>\n",
       "      <th>0</th>\n",
       "      <td>BHK2</td>\n",
       "      <td>12.929557</td>\n",
       "      <td>77.672280</td>\n",
       "      <td>ANYONE</td>\n",
       "      <td>0</td>\n",
       "      <td>1</td>\n",
       "      <td>0</td>\n",
       "      <td>1</td>\n",
       "      <td>SEMI_FURNISHED</td>\n",
       "      <td>BOTH</td>\n",
       "      <td>1400</td>\n",
       "      <td>4.0</td>\n",
       "      <td>2.0</td>\n",
       "      <td>NE</td>\n",
       "      <td>2.0</td>\n",
       "      <td>3.0</td>\n",
       "      <td>4.0</td>\n",
       "      <td>CORPORATION</td>\n",
       "      <td>AP</td>\n",
       "      <td>2.0</td>\n",
       "      <td>22000.0</td>\n",
       "    </tr>\n",
       "    <tr>\n",
       "      <th>1</th>\n",
       "      <td>BHK3</td>\n",
       "      <td>12.982870</td>\n",
       "      <td>80.262012</td>\n",
       "      <td>FAMILY</td>\n",
       "      <td>0</td>\n",
       "      <td>1</td>\n",
       "      <td>0</td>\n",
       "      <td>0</td>\n",
       "      <td>SEMI_FURNISHED</td>\n",
       "      <td>BOTH</td>\n",
       "      <td>1350</td>\n",
       "      <td>6.0</td>\n",
       "      <td>3.0</td>\n",
       "      <td>E</td>\n",
       "      <td>3.0</td>\n",
       "      <td>1.0</td>\n",
       "      <td>5.0</td>\n",
       "      <td>CORPORATION</td>\n",
       "      <td>AP</td>\n",
       "      <td>3.0</td>\n",
       "      <td>28000.0</td>\n",
       "    </tr>\n",
       "    <tr>\n",
       "      <th>2</th>\n",
       "      <td>BHK1</td>\n",
       "      <td>12.955991</td>\n",
       "      <td>77.531634</td>\n",
       "      <td>FAMILY</td>\n",
       "      <td>0</td>\n",
       "      <td>0</td>\n",
       "      <td>0</td>\n",
       "      <td>1</td>\n",
       "      <td>SEMI_FURNISHED</td>\n",
       "      <td>TWO_WHEELER</td>\n",
       "      <td>600</td>\n",
       "      <td>3.0</td>\n",
       "      <td>1.0</td>\n",
       "      <td>E</td>\n",
       "      <td>1.0</td>\n",
       "      <td>1.0</td>\n",
       "      <td>2.0</td>\n",
       "      <td>CORPORATION</td>\n",
       "      <td>IH</td>\n",
       "      <td>0.0</td>\n",
       "      <td>8000.0</td>\n",
       "    </tr>\n",
       "    <tr>\n",
       "      <th>3</th>\n",
       "      <td>BHK3</td>\n",
       "      <td>12.963903</td>\n",
       "      <td>77.649446</td>\n",
       "      <td>FAMILY</td>\n",
       "      <td>0</td>\n",
       "      <td>0</td>\n",
       "      <td>0</td>\n",
       "      <td>1</td>\n",
       "      <td>SEMI_FURNISHED</td>\n",
       "      <td>BOTH</td>\n",
       "      <td>1500</td>\n",
       "      <td>15.0</td>\n",
       "      <td>3.0</td>\n",
       "      <td>E</td>\n",
       "      <td>4.0</td>\n",
       "      <td>0.0</td>\n",
       "      <td>0.0</td>\n",
       "      <td>CORPORATION</td>\n",
       "      <td>IH</td>\n",
       "      <td>1.0</td>\n",
       "      <td>45000.0</td>\n",
       "    </tr>\n",
       "    <tr>\n",
       "      <th>4</th>\n",
       "      <td>BHK3</td>\n",
       "      <td>12.967144</td>\n",
       "      <td>77.750662</td>\n",
       "      <td>ANYONE</td>\n",
       "      <td>1</td>\n",
       "      <td>1</td>\n",
       "      <td>1</td>\n",
       "      <td>1</td>\n",
       "      <td>FULLY_FURNISHED</td>\n",
       "      <td>BOTH</td>\n",
       "      <td>1895</td>\n",
       "      <td>5.0</td>\n",
       "      <td>3.0</td>\n",
       "      <td>NE</td>\n",
       "      <td>5.0</td>\n",
       "      <td>3.0</td>\n",
       "      <td>9.0</td>\n",
       "      <td>CORPORATION</td>\n",
       "      <td>AP</td>\n",
       "      <td>3.0</td>\n",
       "      <td>32000.0</td>\n",
       "    </tr>\n",
       "  </tbody>\n",
       "</table>\n",
       "</div>"
      ],
      "text/plain": [
       "   type   latitude  longitude lease_type  gym  lift  swimming_pool  \\\n",
       "0  BHK2  12.929557  77.672280     ANYONE    0     1              0   \n",
       "1  BHK3  12.982870  80.262012     FAMILY    0     1              0   \n",
       "2  BHK1  12.955991  77.531634     FAMILY    0     0              0   \n",
       "3  BHK3  12.963903  77.649446     FAMILY    0     0              0   \n",
       "4  BHK3  12.967144  77.750662     ANYONE    1     1              1   \n",
       "\n",
       "   negotiable       furnishing      parking  property_size  property_age  \\\n",
       "0           1   SEMI_FURNISHED         BOTH           1400           4.0   \n",
       "1           0   SEMI_FURNISHED         BOTH           1350           6.0   \n",
       "2           1   SEMI_FURNISHED  TWO_WHEELER            600           3.0   \n",
       "3           1   SEMI_FURNISHED         BOTH           1500          15.0   \n",
       "4           1  FULLY_FURNISHED         BOTH           1895           5.0   \n",
       "\n",
       "   bathroom facing  cup_board  floor  total_floor water_supply building_type  \\\n",
       "0       2.0     NE        2.0    3.0          4.0  CORPORATION            AP   \n",
       "1       3.0      E        3.0    1.0          5.0  CORPORATION            AP   \n",
       "2       1.0      E        1.0    1.0          2.0  CORPORATION            IH   \n",
       "3       3.0      E        4.0    0.0          0.0  CORPORATION            IH   \n",
       "4       3.0     NE        5.0    3.0          9.0  CORPORATION            AP   \n",
       "\n",
       "   balconies     rent  \n",
       "0        2.0  22000.0  \n",
       "1        3.0  28000.0  \n",
       "2        0.0   8000.0  \n",
       "3        1.0  45000.0  \n",
       "4        3.0  32000.0  "
      ]
     },
     "execution_count": 9,
     "metadata": {},
     "output_type": "execute_result"
    }
   ],
   "source": [
    "import pandas as pd\n",
    "\n",
    "pd.set_option('display.max_columns', None)\n",
    "\n",
    "df = pd.read_csv(r'Dataset\\analysis_df.csv')\n",
    "df.head()"
   ]
  },
  {
   "cell_type": "code",
   "execution_count": 10,
   "metadata": {},
   "outputs": [
    {
     "data": {
      "text/html": [
       "<div>\n",
       "<style scoped>\n",
       "    .dataframe tbody tr th:only-of-type {\n",
       "        vertical-align: middle;\n",
       "    }\n",
       "\n",
       "    .dataframe tbody tr th {\n",
       "        vertical-align: top;\n",
       "    }\n",
       "\n",
       "    .dataframe thead th {\n",
       "        text-align: right;\n",
       "    }\n",
       "</style>\n",
       "<table border=\"1\" class=\"dataframe\">\n",
       "  <thead>\n",
       "    <tr style=\"text-align: right;\">\n",
       "      <th></th>\n",
       "      <th>type</th>\n",
       "      <th>lease_type</th>\n",
       "      <th>gym</th>\n",
       "      <th>lift</th>\n",
       "      <th>swimming_pool</th>\n",
       "      <th>negotiable</th>\n",
       "      <th>furnishing</th>\n",
       "      <th>parking</th>\n",
       "      <th>property_size</th>\n",
       "      <th>property_age</th>\n",
       "      <th>bathroom</th>\n",
       "      <th>facing</th>\n",
       "      <th>cup_board</th>\n",
       "      <th>floor</th>\n",
       "      <th>total_floor</th>\n",
       "      <th>water_supply</th>\n",
       "      <th>building_type</th>\n",
       "      <th>balconies</th>\n",
       "      <th>rent</th>\n",
       "    </tr>\n",
       "  </thead>\n",
       "  <tbody>\n",
       "    <tr>\n",
       "      <th>0</th>\n",
       "      <td>BHK2</td>\n",
       "      <td>ANYONE</td>\n",
       "      <td>0</td>\n",
       "      <td>1</td>\n",
       "      <td>0</td>\n",
       "      <td>1</td>\n",
       "      <td>SEMI_FURNISHED</td>\n",
       "      <td>BOTH</td>\n",
       "      <td>1400</td>\n",
       "      <td>4.0</td>\n",
       "      <td>2.0</td>\n",
       "      <td>NE</td>\n",
       "      <td>2.0</td>\n",
       "      <td>3.0</td>\n",
       "      <td>4.0</td>\n",
       "      <td>CORPORATION</td>\n",
       "      <td>AP</td>\n",
       "      <td>2.0</td>\n",
       "      <td>22000.0</td>\n",
       "    </tr>\n",
       "    <tr>\n",
       "      <th>1</th>\n",
       "      <td>BHK3</td>\n",
       "      <td>FAMILY</td>\n",
       "      <td>0</td>\n",
       "      <td>1</td>\n",
       "      <td>0</td>\n",
       "      <td>0</td>\n",
       "      <td>SEMI_FURNISHED</td>\n",
       "      <td>BOTH</td>\n",
       "      <td>1350</td>\n",
       "      <td>6.0</td>\n",
       "      <td>3.0</td>\n",
       "      <td>E</td>\n",
       "      <td>3.0</td>\n",
       "      <td>1.0</td>\n",
       "      <td>5.0</td>\n",
       "      <td>CORPORATION</td>\n",
       "      <td>AP</td>\n",
       "      <td>3.0</td>\n",
       "      <td>28000.0</td>\n",
       "    </tr>\n",
       "    <tr>\n",
       "      <th>2</th>\n",
       "      <td>BHK1</td>\n",
       "      <td>FAMILY</td>\n",
       "      <td>0</td>\n",
       "      <td>0</td>\n",
       "      <td>0</td>\n",
       "      <td>1</td>\n",
       "      <td>SEMI_FURNISHED</td>\n",
       "      <td>TWO_WHEELER</td>\n",
       "      <td>600</td>\n",
       "      <td>3.0</td>\n",
       "      <td>1.0</td>\n",
       "      <td>E</td>\n",
       "      <td>1.0</td>\n",
       "      <td>1.0</td>\n",
       "      <td>2.0</td>\n",
       "      <td>CORPORATION</td>\n",
       "      <td>IH</td>\n",
       "      <td>0.0</td>\n",
       "      <td>8000.0</td>\n",
       "    </tr>\n",
       "    <tr>\n",
       "      <th>3</th>\n",
       "      <td>BHK3</td>\n",
       "      <td>FAMILY</td>\n",
       "      <td>0</td>\n",
       "      <td>0</td>\n",
       "      <td>0</td>\n",
       "      <td>1</td>\n",
       "      <td>SEMI_FURNISHED</td>\n",
       "      <td>BOTH</td>\n",
       "      <td>1500</td>\n",
       "      <td>15.0</td>\n",
       "      <td>3.0</td>\n",
       "      <td>E</td>\n",
       "      <td>4.0</td>\n",
       "      <td>0.0</td>\n",
       "      <td>0.0</td>\n",
       "      <td>CORPORATION</td>\n",
       "      <td>IH</td>\n",
       "      <td>1.0</td>\n",
       "      <td>45000.0</td>\n",
       "    </tr>\n",
       "    <tr>\n",
       "      <th>4</th>\n",
       "      <td>BHK3</td>\n",
       "      <td>ANYONE</td>\n",
       "      <td>1</td>\n",
       "      <td>1</td>\n",
       "      <td>1</td>\n",
       "      <td>1</td>\n",
       "      <td>FULLY_FURNISHED</td>\n",
       "      <td>BOTH</td>\n",
       "      <td>1895</td>\n",
       "      <td>5.0</td>\n",
       "      <td>3.0</td>\n",
       "      <td>NE</td>\n",
       "      <td>5.0</td>\n",
       "      <td>3.0</td>\n",
       "      <td>9.0</td>\n",
       "      <td>CORPORATION</td>\n",
       "      <td>AP</td>\n",
       "      <td>3.0</td>\n",
       "      <td>32000.0</td>\n",
       "    </tr>\n",
       "  </tbody>\n",
       "</table>\n",
       "</div>"
      ],
      "text/plain": [
       "   type lease_type  gym  lift  swimming_pool  negotiable       furnishing  \\\n",
       "0  BHK2     ANYONE    0     1              0           1   SEMI_FURNISHED   \n",
       "1  BHK3     FAMILY    0     1              0           0   SEMI_FURNISHED   \n",
       "2  BHK1     FAMILY    0     0              0           1   SEMI_FURNISHED   \n",
       "3  BHK3     FAMILY    0     0              0           1   SEMI_FURNISHED   \n",
       "4  BHK3     ANYONE    1     1              1           1  FULLY_FURNISHED   \n",
       "\n",
       "       parking  property_size  property_age  bathroom facing  cup_board  \\\n",
       "0         BOTH           1400           4.0       2.0     NE        2.0   \n",
       "1         BOTH           1350           6.0       3.0      E        3.0   \n",
       "2  TWO_WHEELER            600           3.0       1.0      E        1.0   \n",
       "3         BOTH           1500          15.0       3.0      E        4.0   \n",
       "4         BOTH           1895           5.0       3.0     NE        5.0   \n",
       "\n",
       "   floor  total_floor water_supply building_type  balconies     rent  \n",
       "0    3.0          4.0  CORPORATION            AP        2.0  22000.0  \n",
       "1    1.0          5.0  CORPORATION            AP        3.0  28000.0  \n",
       "2    1.0          2.0  CORPORATION            IH        0.0   8000.0  \n",
       "3    0.0          0.0  CORPORATION            IH        1.0  45000.0  \n",
       "4    3.0          9.0  CORPORATION            AP        3.0  32000.0  "
      ]
     },
     "execution_count": 10,
     "metadata": {},
     "output_type": "execute_result"
    }
   ],
   "source": [
    "new_df = df.drop(['latitude', 'longitude'], axis = 1)\n",
    "new_df.head()"
   ]
  },
  {
   "cell_type": "markdown",
   "metadata": {},
   "source": [
    "##### **Encoding categorical Features**"
   ]
  },
  {
   "cell_type": "code",
   "execution_count": 11,
   "metadata": {},
   "outputs": [
    {
     "data": {
      "text/html": [
       "<div>\n",
       "<style scoped>\n",
       "    .dataframe tbody tr th:only-of-type {\n",
       "        vertical-align: middle;\n",
       "    }\n",
       "\n",
       "    .dataframe tbody tr th {\n",
       "        vertical-align: top;\n",
       "    }\n",
       "\n",
       "    .dataframe thead th {\n",
       "        text-align: right;\n",
       "    }\n",
       "</style>\n",
       "<table border=\"1\" class=\"dataframe\">\n",
       "  <thead>\n",
       "    <tr style=\"text-align: right;\">\n",
       "      <th></th>\n",
       "      <th>type</th>\n",
       "      <th>lease_type</th>\n",
       "      <th>furnishing</th>\n",
       "      <th>parking</th>\n",
       "      <th>facing</th>\n",
       "      <th>water_supply</th>\n",
       "      <th>building_type</th>\n",
       "    </tr>\n",
       "  </thead>\n",
       "  <tbody>\n",
       "    <tr>\n",
       "      <th>0</th>\n",
       "      <td>BHK2</td>\n",
       "      <td>ANYONE</td>\n",
       "      <td>SEMI_FURNISHED</td>\n",
       "      <td>BOTH</td>\n",
       "      <td>NE</td>\n",
       "      <td>CORPORATION</td>\n",
       "      <td>AP</td>\n",
       "    </tr>\n",
       "    <tr>\n",
       "      <th>1</th>\n",
       "      <td>BHK3</td>\n",
       "      <td>FAMILY</td>\n",
       "      <td>SEMI_FURNISHED</td>\n",
       "      <td>BOTH</td>\n",
       "      <td>E</td>\n",
       "      <td>CORPORATION</td>\n",
       "      <td>AP</td>\n",
       "    </tr>\n",
       "    <tr>\n",
       "      <th>2</th>\n",
       "      <td>BHK1</td>\n",
       "      <td>FAMILY</td>\n",
       "      <td>SEMI_FURNISHED</td>\n",
       "      <td>TWO_WHEELER</td>\n",
       "      <td>E</td>\n",
       "      <td>CORPORATION</td>\n",
       "      <td>IH</td>\n",
       "    </tr>\n",
       "    <tr>\n",
       "      <th>3</th>\n",
       "      <td>BHK3</td>\n",
       "      <td>FAMILY</td>\n",
       "      <td>SEMI_FURNISHED</td>\n",
       "      <td>BOTH</td>\n",
       "      <td>E</td>\n",
       "      <td>CORPORATION</td>\n",
       "      <td>IH</td>\n",
       "    </tr>\n",
       "    <tr>\n",
       "      <th>4</th>\n",
       "      <td>BHK3</td>\n",
       "      <td>ANYONE</td>\n",
       "      <td>FULLY_FURNISHED</td>\n",
       "      <td>BOTH</td>\n",
       "      <td>NE</td>\n",
       "      <td>CORPORATION</td>\n",
       "      <td>AP</td>\n",
       "    </tr>\n",
       "  </tbody>\n",
       "</table>\n",
       "</div>"
      ],
      "text/plain": [
       "   type lease_type       furnishing      parking facing water_supply  \\\n",
       "0  BHK2     ANYONE   SEMI_FURNISHED         BOTH     NE  CORPORATION   \n",
       "1  BHK3     FAMILY   SEMI_FURNISHED         BOTH      E  CORPORATION   \n",
       "2  BHK1     FAMILY   SEMI_FURNISHED  TWO_WHEELER      E  CORPORATION   \n",
       "3  BHK3     FAMILY   SEMI_FURNISHED         BOTH      E  CORPORATION   \n",
       "4  BHK3     ANYONE  FULLY_FURNISHED         BOTH     NE  CORPORATION   \n",
       "\n",
       "  building_type  \n",
       "0            AP  \n",
       "1            AP  \n",
       "2            IH  \n",
       "3            IH  \n",
       "4            AP  "
      ]
     },
     "execution_count": 11,
     "metadata": {},
     "output_type": "execute_result"
    }
   ],
   "source": [
    "category_df = new_df[['type','lease_type','furnishing','parking','facing','water_supply','building_type']]\n",
    "category_df.head()"
   ]
  },
  {
   "cell_type": "code",
   "execution_count": 12,
   "metadata": {},
   "outputs": [
    {
     "name": "stdout",
     "output_type": "stream",
     "text": [
      "The value counts of type : BHK2        9777\n",
      "BHK3        3583\n",
      "BHK1        2982\n",
      "RK1          448\n",
      "BHK4         199\n",
      "BHK4PLUS      24\n",
      "Name: type, dtype: int64\n",
      "__________________________________________________________\n",
      "The value counts of lease_type : FAMILY      8440\n",
      "ANYONE      8011\n",
      "BACHELOR     514\n",
      "COMPANY       48\n",
      "Name: lease_type, dtype: int64\n",
      "__________________________________________________________\n",
      "The value counts of furnishing : SEMI_FURNISHED     14774\n",
      "NOT_FURNISHED       1242\n",
      "FULLY_FURNISHED      997\n",
      "Name: furnishing, dtype: int64\n",
      "__________________________________________________________\n",
      "The value counts of parking : BOTH            8601\n",
      "TWO_WHEELER     6264\n",
      "FOUR_WHEELER    1212\n",
      "NONE             936\n",
      "Name: parking, dtype: int64\n",
      "__________________________________________________________\n",
      "The value counts of facing : E     7885\n",
      "N     4878\n",
      "W     2142\n",
      "S     1097\n",
      "NE     663\n",
      "SE     175\n",
      "NW     123\n",
      "SW      50\n",
      "Name: facing, dtype: int64\n",
      "__________________________________________________________\n",
      "The value counts of water_supply : CORPORATION    14753\n",
      "BOREWELL        2260\n",
      "Name: water_supply, dtype: int64\n",
      "__________________________________________________________\n",
      "The value counts of building_type : IF    8020\n",
      "AP    6858\n",
      "IH    2121\n",
      "GC      14\n",
      "Name: building_type, dtype: int64\n",
      "__________________________________________________________\n"
     ]
    }
   ],
   "source": [
    "for i in category_df.columns:\n",
    "    print(f'The value counts of {i} : {category_df[i].value_counts()}')\n",
    "    print('__________________________________________________________')"
   ]
  },
  {
   "cell_type": "markdown",
   "metadata": {},
   "source": [
    "##### **Feature selection**"
   ]
  },
  {
   "cell_type": "code",
   "execution_count": 16,
   "metadata": {},
   "outputs": [
    {
     "name": "stderr",
     "output_type": "stream",
     "text": [
      "C:\\Users\\Sukumar\\AppData\\Local\\Temp\\ipykernel_6928\\4001492095.py:1: FutureWarning:\n",
      "\n",
      "The default value of numeric_only in DataFrame.corr is deprecated. In a future version, it will default to False. Select only valid columns or specify the value of numeric_only to silence this warning.\n",
      "\n"
     ]
    },
    {
     "data": {
      "application/vnd.plotly.v1+json": {
       "config": {
        "plotlyServerURL": "https://plot.ly"
       },
       "data": [
        {
         "coloraxis": "coloraxis",
         "hovertemplate": "x: %{x}<br>y: %{y}<br>color: %{z}<extra></extra>",
         "name": "0",
         "texttemplate": "%{z}",
         "type": "heatmap",
         "x": [
          "gym",
          "lift",
          "swimming_pool",
          "negotiable",
          "property_size",
          "property_age",
          "bathroom",
          "cup_board",
          "floor",
          "total_floor",
          "balconies",
          "rent"
         ],
         "xaxis": "x",
         "y": [
          "gym",
          "lift",
          "swimming_pool",
          "negotiable",
          "property_size",
          "property_age",
          "bathroom",
          "cup_board",
          "floor",
          "total_floor",
          "balconies",
          "rent"
         ],
         "yaxis": "y",
         "z": [
          [
           1,
           0.6311910484848184,
           0.7545189590937746,
           -0.00007647881425603077,
           0.2682513988594354,
           -0.16979634314309774,
           0.31482833089082224,
           -0.002752999567859024,
           0.3757742893200099,
           0.5040433588831396,
           0.40699413510359955,
           0.4169913395584931
          ],
          [
           0.6311910484848184,
           1,
           0.5447956144914654,
           0.004755571661145389,
           0.28967417395348405,
           -0.1627445902264809,
           0.35956507835946894,
           -0.004038992697749125,
           0.4022562742431316,
           0.5288557059792088,
           0.5299981501331077,
           0.44909749531720305
          ],
          [
           0.7545189590937746,
           0.5447956144914654,
           1,
           0.002116118654827734,
           0.2628991449229371,
           -0.14819598365001715,
           0.3102847653499671,
           -0.0022517217295191343,
           0.40819469625881766,
           0.5410681817335674,
           0.37735272387930446,
           0.4227884846819799
          ],
          [
           -0.00007647881425603077,
           0.004755571661145389,
           0.002116118654827734,
           1,
           0.05185179029415584,
           0.03920658702238219,
           0.05845179767019632,
           0.00506045229410164,
           -0.018104520340282954,
           -0.009852369590526206,
           0.018041215182837623,
           0.05795812920871325
          ],
          [
           0.2682513988594354,
           0.28967417395348405,
           0.2628991449229371,
           0.05185179029415584,
           1,
           -0.004148394618352257,
           0.5631763491228321,
           -0.0029410651031103966,
           0.133753837255163,
           0.20935982525413202,
           0.35707258527926733,
           0.564000010350936
          ],
          [
           -0.16979634314309774,
           -0.1627445902264809,
           -0.14819598365001715,
           0.03920658702238219,
           -0.004148394618352257,
           1,
           -0.03860590271737868,
           0.0041536370280757864,
           -0.18790361633072306,
           -0.2130458155254948,
           -0.12148071818870033,
           0.02251719094483075
          ],
          [
           0.31482833089082224,
           0.35956507835946894,
           0.3102847653499671,
           0.05845179767019632,
           0.5631763491228321,
           -0.03860590271737868,
           1,
           -0.0071708386951698615,
           0.16315092324189476,
           0.2616554306926191,
           0.44215322046556116,
           0.6717347656995685
          ],
          [
           -0.002752999567859024,
           -0.004038992697749125,
           -0.0022517217295191343,
           0.00506045229410164,
           -0.0029410651031103966,
           0.0041536370280757864,
           -0.0071708386951698615,
           1,
           -0.002211565673286799,
           -0.0032959718193103092,
           -0.0072863732600735205,
           -0.001510826232754848
          ],
          [
           0.3757742893200099,
           0.4022562742431316,
           0.40819469625881766,
           -0.018104520340282954,
           0.133753837255163,
           -0.18790361633072306,
           0.16315092324189476,
           -0.002211565673286799,
           1,
           0.6995687003144592,
           0.3565004872996244,
           0.2842855899159728
          ],
          [
           0.5040433588831396,
           0.5288557059792088,
           0.5410681817335674,
           -0.009852369590526206,
           0.20935982525413202,
           -0.2130458155254948,
           0.2616554306926191,
           -0.0032959718193103092,
           0.6995687003144592,
           1,
           0.3865768952391395,
           0.41322830073351735
          ],
          [
           0.40699413510359955,
           0.5299981501331077,
           0.37735272387930446,
           0.018041215182837623,
           0.35707258527926733,
           -0.12148071818870033,
           0.44215322046556116,
           -0.0072863732600735205,
           0.3565004872996244,
           0.3865768952391395,
           1,
           0.4715938363365405
          ],
          [
           0.4169913395584931,
           0.44909749531720305,
           0.4227884846819799,
           0.05795812920871325,
           0.564000010350936,
           0.02251719094483075,
           0.6717347656995685,
           -0.001510826232754848,
           0.2842855899159728,
           0.41322830073351735,
           0.4715938363365405,
           1
          ]
         ]
        }
       ],
       "layout": {
        "coloraxis": {
         "colorscale": [
          [
           0,
           "#0d0887"
          ],
          [
           0.1111111111111111,
           "#46039f"
          ],
          [
           0.2222222222222222,
           "#7201a8"
          ],
          [
           0.3333333333333333,
           "#9c179e"
          ],
          [
           0.4444444444444444,
           "#bd3786"
          ],
          [
           0.5555555555555556,
           "#d8576b"
          ],
          [
           0.6666666666666666,
           "#ed7953"
          ],
          [
           0.7777777777777778,
           "#fb9f3a"
          ],
          [
           0.8888888888888888,
           "#fdca26"
          ],
          [
           1,
           "#f0f921"
          ]
         ]
        },
        "height": 800,
        "margin": {
         "t": 60
        },
        "template": {
         "data": {
          "bar": [
           {
            "error_x": {
             "color": "#2a3f5f"
            },
            "error_y": {
             "color": "#2a3f5f"
            },
            "marker": {
             "line": {
              "color": "#E5ECF6",
              "width": 0.5
             },
             "pattern": {
              "fillmode": "overlay",
              "size": 10,
              "solidity": 0.2
             }
            },
            "type": "bar"
           }
          ],
          "barpolar": [
           {
            "marker": {
             "line": {
              "color": "#E5ECF6",
              "width": 0.5
             },
             "pattern": {
              "fillmode": "overlay",
              "size": 10,
              "solidity": 0.2
             }
            },
            "type": "barpolar"
           }
          ],
          "carpet": [
           {
            "aaxis": {
             "endlinecolor": "#2a3f5f",
             "gridcolor": "white",
             "linecolor": "white",
             "minorgridcolor": "white",
             "startlinecolor": "#2a3f5f"
            },
            "baxis": {
             "endlinecolor": "#2a3f5f",
             "gridcolor": "white",
             "linecolor": "white",
             "minorgridcolor": "white",
             "startlinecolor": "#2a3f5f"
            },
            "type": "carpet"
           }
          ],
          "choropleth": [
           {
            "colorbar": {
             "outlinewidth": 0,
             "ticks": ""
            },
            "type": "choropleth"
           }
          ],
          "contour": [
           {
            "colorbar": {
             "outlinewidth": 0,
             "ticks": ""
            },
            "colorscale": [
             [
              0,
              "#0d0887"
             ],
             [
              0.1111111111111111,
              "#46039f"
             ],
             [
              0.2222222222222222,
              "#7201a8"
             ],
             [
              0.3333333333333333,
              "#9c179e"
             ],
             [
              0.4444444444444444,
              "#bd3786"
             ],
             [
              0.5555555555555556,
              "#d8576b"
             ],
             [
              0.6666666666666666,
              "#ed7953"
             ],
             [
              0.7777777777777778,
              "#fb9f3a"
             ],
             [
              0.8888888888888888,
              "#fdca26"
             ],
             [
              1,
              "#f0f921"
             ]
            ],
            "type": "contour"
           }
          ],
          "contourcarpet": [
           {
            "colorbar": {
             "outlinewidth": 0,
             "ticks": ""
            },
            "type": "contourcarpet"
           }
          ],
          "heatmap": [
           {
            "colorbar": {
             "outlinewidth": 0,
             "ticks": ""
            },
            "colorscale": [
             [
              0,
              "#0d0887"
             ],
             [
              0.1111111111111111,
              "#46039f"
             ],
             [
              0.2222222222222222,
              "#7201a8"
             ],
             [
              0.3333333333333333,
              "#9c179e"
             ],
             [
              0.4444444444444444,
              "#bd3786"
             ],
             [
              0.5555555555555556,
              "#d8576b"
             ],
             [
              0.6666666666666666,
              "#ed7953"
             ],
             [
              0.7777777777777778,
              "#fb9f3a"
             ],
             [
              0.8888888888888888,
              "#fdca26"
             ],
             [
              1,
              "#f0f921"
             ]
            ],
            "type": "heatmap"
           }
          ],
          "heatmapgl": [
           {
            "colorbar": {
             "outlinewidth": 0,
             "ticks": ""
            },
            "colorscale": [
             [
              0,
              "#0d0887"
             ],
             [
              0.1111111111111111,
              "#46039f"
             ],
             [
              0.2222222222222222,
              "#7201a8"
             ],
             [
              0.3333333333333333,
              "#9c179e"
             ],
             [
              0.4444444444444444,
              "#bd3786"
             ],
             [
              0.5555555555555556,
              "#d8576b"
             ],
             [
              0.6666666666666666,
              "#ed7953"
             ],
             [
              0.7777777777777778,
              "#fb9f3a"
             ],
             [
              0.8888888888888888,
              "#fdca26"
             ],
             [
              1,
              "#f0f921"
             ]
            ],
            "type": "heatmapgl"
           }
          ],
          "histogram": [
           {
            "marker": {
             "pattern": {
              "fillmode": "overlay",
              "size": 10,
              "solidity": 0.2
             }
            },
            "type": "histogram"
           }
          ],
          "histogram2d": [
           {
            "colorbar": {
             "outlinewidth": 0,
             "ticks": ""
            },
            "colorscale": [
             [
              0,
              "#0d0887"
             ],
             [
              0.1111111111111111,
              "#46039f"
             ],
             [
              0.2222222222222222,
              "#7201a8"
             ],
             [
              0.3333333333333333,
              "#9c179e"
             ],
             [
              0.4444444444444444,
              "#bd3786"
             ],
             [
              0.5555555555555556,
              "#d8576b"
             ],
             [
              0.6666666666666666,
              "#ed7953"
             ],
             [
              0.7777777777777778,
              "#fb9f3a"
             ],
             [
              0.8888888888888888,
              "#fdca26"
             ],
             [
              1,
              "#f0f921"
             ]
            ],
            "type": "histogram2d"
           }
          ],
          "histogram2dcontour": [
           {
            "colorbar": {
             "outlinewidth": 0,
             "ticks": ""
            },
            "colorscale": [
             [
              0,
              "#0d0887"
             ],
             [
              0.1111111111111111,
              "#46039f"
             ],
             [
              0.2222222222222222,
              "#7201a8"
             ],
             [
              0.3333333333333333,
              "#9c179e"
             ],
             [
              0.4444444444444444,
              "#bd3786"
             ],
             [
              0.5555555555555556,
              "#d8576b"
             ],
             [
              0.6666666666666666,
              "#ed7953"
             ],
             [
              0.7777777777777778,
              "#fb9f3a"
             ],
             [
              0.8888888888888888,
              "#fdca26"
             ],
             [
              1,
              "#f0f921"
             ]
            ],
            "type": "histogram2dcontour"
           }
          ],
          "mesh3d": [
           {
            "colorbar": {
             "outlinewidth": 0,
             "ticks": ""
            },
            "type": "mesh3d"
           }
          ],
          "parcoords": [
           {
            "line": {
             "colorbar": {
              "outlinewidth": 0,
              "ticks": ""
             }
            },
            "type": "parcoords"
           }
          ],
          "pie": [
           {
            "automargin": true,
            "type": "pie"
           }
          ],
          "scatter": [
           {
            "fillpattern": {
             "fillmode": "overlay",
             "size": 10,
             "solidity": 0.2
            },
            "type": "scatter"
           }
          ],
          "scatter3d": [
           {
            "line": {
             "colorbar": {
              "outlinewidth": 0,
              "ticks": ""
             }
            },
            "marker": {
             "colorbar": {
              "outlinewidth": 0,
              "ticks": ""
             }
            },
            "type": "scatter3d"
           }
          ],
          "scattercarpet": [
           {
            "marker": {
             "colorbar": {
              "outlinewidth": 0,
              "ticks": ""
             }
            },
            "type": "scattercarpet"
           }
          ],
          "scattergeo": [
           {
            "marker": {
             "colorbar": {
              "outlinewidth": 0,
              "ticks": ""
             }
            },
            "type": "scattergeo"
           }
          ],
          "scattergl": [
           {
            "marker": {
             "colorbar": {
              "outlinewidth": 0,
              "ticks": ""
             }
            },
            "type": "scattergl"
           }
          ],
          "scattermapbox": [
           {
            "marker": {
             "colorbar": {
              "outlinewidth": 0,
              "ticks": ""
             }
            },
            "type": "scattermapbox"
           }
          ],
          "scatterpolar": [
           {
            "marker": {
             "colorbar": {
              "outlinewidth": 0,
              "ticks": ""
             }
            },
            "type": "scatterpolar"
           }
          ],
          "scatterpolargl": [
           {
            "marker": {
             "colorbar": {
              "outlinewidth": 0,
              "ticks": ""
             }
            },
            "type": "scatterpolargl"
           }
          ],
          "scatterternary": [
           {
            "marker": {
             "colorbar": {
              "outlinewidth": 0,
              "ticks": ""
             }
            },
            "type": "scatterternary"
           }
          ],
          "surface": [
           {
            "colorbar": {
             "outlinewidth": 0,
             "ticks": ""
            },
            "colorscale": [
             [
              0,
              "#0d0887"
             ],
             [
              0.1111111111111111,
              "#46039f"
             ],
             [
              0.2222222222222222,
              "#7201a8"
             ],
             [
              0.3333333333333333,
              "#9c179e"
             ],
             [
              0.4444444444444444,
              "#bd3786"
             ],
             [
              0.5555555555555556,
              "#d8576b"
             ],
             [
              0.6666666666666666,
              "#ed7953"
             ],
             [
              0.7777777777777778,
              "#fb9f3a"
             ],
             [
              0.8888888888888888,
              "#fdca26"
             ],
             [
              1,
              "#f0f921"
             ]
            ],
            "type": "surface"
           }
          ],
          "table": [
           {
            "cells": {
             "fill": {
              "color": "#EBF0F8"
             },
             "line": {
              "color": "white"
             }
            },
            "header": {
             "fill": {
              "color": "#C8D4E3"
             },
             "line": {
              "color": "white"
             }
            },
            "type": "table"
           }
          ]
         },
         "layout": {
          "annotationdefaults": {
           "arrowcolor": "#2a3f5f",
           "arrowhead": 0,
           "arrowwidth": 1
          },
          "autotypenumbers": "strict",
          "coloraxis": {
           "colorbar": {
            "outlinewidth": 0,
            "ticks": ""
           }
          },
          "colorscale": {
           "diverging": [
            [
             0,
             "#8e0152"
            ],
            [
             0.1,
             "#c51b7d"
            ],
            [
             0.2,
             "#de77ae"
            ],
            [
             0.3,
             "#f1b6da"
            ],
            [
             0.4,
             "#fde0ef"
            ],
            [
             0.5,
             "#f7f7f7"
            ],
            [
             0.6,
             "#e6f5d0"
            ],
            [
             0.7,
             "#b8e186"
            ],
            [
             0.8,
             "#7fbc41"
            ],
            [
             0.9,
             "#4d9221"
            ],
            [
             1,
             "#276419"
            ]
           ],
           "sequential": [
            [
             0,
             "#0d0887"
            ],
            [
             0.1111111111111111,
             "#46039f"
            ],
            [
             0.2222222222222222,
             "#7201a8"
            ],
            [
             0.3333333333333333,
             "#9c179e"
            ],
            [
             0.4444444444444444,
             "#bd3786"
            ],
            [
             0.5555555555555556,
             "#d8576b"
            ],
            [
             0.6666666666666666,
             "#ed7953"
            ],
            [
             0.7777777777777778,
             "#fb9f3a"
            ],
            [
             0.8888888888888888,
             "#fdca26"
            ],
            [
             1,
             "#f0f921"
            ]
           ],
           "sequentialminus": [
            [
             0,
             "#0d0887"
            ],
            [
             0.1111111111111111,
             "#46039f"
            ],
            [
             0.2222222222222222,
             "#7201a8"
            ],
            [
             0.3333333333333333,
             "#9c179e"
            ],
            [
             0.4444444444444444,
             "#bd3786"
            ],
            [
             0.5555555555555556,
             "#d8576b"
            ],
            [
             0.6666666666666666,
             "#ed7953"
            ],
            [
             0.7777777777777778,
             "#fb9f3a"
            ],
            [
             0.8888888888888888,
             "#fdca26"
            ],
            [
             1,
             "#f0f921"
            ]
           ]
          },
          "colorway": [
           "#636efa",
           "#EF553B",
           "#00cc96",
           "#ab63fa",
           "#FFA15A",
           "#19d3f3",
           "#FF6692",
           "#B6E880",
           "#FF97FF",
           "#FECB52"
          ],
          "font": {
           "color": "#2a3f5f"
          },
          "geo": {
           "bgcolor": "white",
           "lakecolor": "white",
           "landcolor": "#E5ECF6",
           "showlakes": true,
           "showland": true,
           "subunitcolor": "white"
          },
          "hoverlabel": {
           "align": "left"
          },
          "hovermode": "closest",
          "mapbox": {
           "style": "light"
          },
          "paper_bgcolor": "white",
          "plot_bgcolor": "#E5ECF6",
          "polar": {
           "angularaxis": {
            "gridcolor": "white",
            "linecolor": "white",
            "ticks": ""
           },
           "bgcolor": "#E5ECF6",
           "radialaxis": {
            "gridcolor": "white",
            "linecolor": "white",
            "ticks": ""
           }
          },
          "scene": {
           "xaxis": {
            "backgroundcolor": "#E5ECF6",
            "gridcolor": "white",
            "gridwidth": 2,
            "linecolor": "white",
            "showbackground": true,
            "ticks": "",
            "zerolinecolor": "white"
           },
           "yaxis": {
            "backgroundcolor": "#E5ECF6",
            "gridcolor": "white",
            "gridwidth": 2,
            "linecolor": "white",
            "showbackground": true,
            "ticks": "",
            "zerolinecolor": "white"
           },
           "zaxis": {
            "backgroundcolor": "#E5ECF6",
            "gridcolor": "white",
            "gridwidth": 2,
            "linecolor": "white",
            "showbackground": true,
            "ticks": "",
            "zerolinecolor": "white"
           }
          },
          "shapedefaults": {
           "line": {
            "color": "#2a3f5f"
           }
          },
          "ternary": {
           "aaxis": {
            "gridcolor": "white",
            "linecolor": "white",
            "ticks": ""
           },
           "baxis": {
            "gridcolor": "white",
            "linecolor": "white",
            "ticks": ""
           },
           "bgcolor": "#E5ECF6",
           "caxis": {
            "gridcolor": "white",
            "linecolor": "white",
            "ticks": ""
           }
          },
          "title": {
           "x": 0.05
          },
          "xaxis": {
           "automargin": true,
           "gridcolor": "white",
           "linecolor": "white",
           "ticks": "",
           "title": {
            "standoff": 15
           },
           "zerolinecolor": "white",
           "zerolinewidth": 2
          },
          "yaxis": {
           "automargin": true,
           "gridcolor": "white",
           "linecolor": "white",
           "ticks": "",
           "title": {
            "standoff": 15
           },
           "zerolinecolor": "white",
           "zerolinewidth": 2
          }
         }
        },
        "width": 1500,
        "xaxis": {
         "anchor": "y",
         "constrain": "domain",
         "domain": [
          0,
          1
         ],
         "scaleanchor": "y"
        },
        "yaxis": {
         "anchor": "x",
         "autorange": "reversed",
         "constrain": "domain",
         "domain": [
          0,
          1
         ]
        }
       }
      }
     },
     "metadata": {},
     "output_type": "display_data"
    }
   ],
   "source": [
    "corr_df = new_df.corr()\n",
    "\n",
    "import plotly.express as px\n",
    "\n",
    "fig = px.imshow(corr_df, text_auto = True)\n",
    "fig.update_layout(width = 1500, height = 800)\n",
    "fig.show()"
   ]
  }
 ],
 "metadata": {
  "kernelspec": {
   "display_name": "Python 3",
   "language": "python",
   "name": "python3"
  },
  "language_info": {
   "codemirror_mode": {
    "name": "ipython",
    "version": 3
   },
   "file_extension": ".py",
   "mimetype": "text/x-python",
   "name": "python",
   "nbconvert_exporter": "python",
   "pygments_lexer": "ipython3",
   "version": "3.11.3"
  }
 },
 "nbformat": 4,
 "nbformat_minor": 2
}
